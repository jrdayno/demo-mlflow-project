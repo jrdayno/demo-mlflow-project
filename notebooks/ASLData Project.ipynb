{
 "cells": [
  {
   "cell_type": "code",
   "execution_count": 1,
   "metadata": {},
   "outputs": [],
   "source": [
    "import pandas as pd"
   ]
  },
  {
   "cell_type": "code",
   "execution_count": null,
   "metadata": {},
   "outputs": [],
   "source": []
  }
 ],
 "metadata": {
  "kernelspec": {
   "name": "python3",
   "display_name": "Python 3.9.1 64-bit ('data-science-env': conda)",
   "metadata": {
    "interpreter": {
     "hash": "46c03d54cdab88bc094f0bab1101b8d42a53c894fea750c396d62d25634def93"
    }
   }
  }
 },
 "nbformat": 4,
 "nbformat_minor": 5
}